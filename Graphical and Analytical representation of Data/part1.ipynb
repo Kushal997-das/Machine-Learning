{
  "nbformat": 4,
  "nbformat_minor": 0,
  "metadata": {
    "kernelspec": {
      "display_name": "Python 3",
      "language": "python",
      "name": "python3"
    },
    "language_info": {
      "codemirror_mode": {
        "name": "ipython",
        "version": 3
      },
      "file_extension": ".py",
      "mimetype": "text/x-python",
      "name": "python",
      "nbconvert_exporter": "python",
      "pygments_lexer": "ipython3",
      "version": "3.8.3"
    },
    "colab": {
      "name": "part1.ipynb",
      "provenance": [],
      "include_colab_link": true
    }
  },
  "cells": [
    {
      "cell_type": "markdown",
      "metadata": {
        "id": "view-in-github",
        "colab_type": "text"
      },
      "source": [
        "<a href=\"https://colab.research.google.com/github/Kushal997-das/Machine-Learning/blob/master/Graphical%20and%20Analytical%20representation%20of%20Data/part1.ipynb\" target=\"_parent\"><img src=\"https://colab.research.google.com/assets/colab-badge.svg\" alt=\"Open In Colab\"/></a>"
      ]
    },
    {
      "cell_type": "markdown",
      "metadata": {
        "id": "TjV4_p3F5A7j"
      },
      "source": [
        "# Graphical and Analytical representation of Data-1\n",
        ">part-1\n"
      ]
    },
    {
      "cell_type": "markdown",
      "metadata": {
        "id": "pIE64uER5A7n"
      },
      "source": [
        "### What is data analysis?"
      ]
    },
    {
      "cell_type": "markdown",
      "metadata": {
        "id": "6BqJP0cA5A7o"
      },
      "source": [
        "- Data analysis is the process of studying the available data and drawing valuable insights or information from it with the help of any software."
      ]
    },
    {
      "cell_type": "markdown",
      "metadata": {
        "id": "UmlhfJoN5A7o"
      },
      "source": [
        "- Data analysis being used everyday and everywhere to enable the businesses to take smart and accurate decisions."
      ]
    },
    {
      "cell_type": "markdown",
      "metadata": {
        "id": "HqGeFkFT5A7p"
      },
      "source": [
        "### How machine learning is related to data analysis ? <br>OR.<br> What has machine learning got to do with data analysis ?"
      ]
    },
    {
      "cell_type": "markdown",
      "metadata": {
        "id": "OxPrrczW5A7q"
      },
      "source": [
        "- We know data analysis is all about analyzing the data and bringing out the varibales insights from it using analytical tools."
      ]
    },
    {
      "cell_type": "markdown",
      "metadata": {
        "id": "U3dysT5S5A7q"
      },
      "source": [
        "- Data analysis is a part of machine learning which analyzes your data and brings out insights before applying any algorithm in it ."
      ]
    },
    {
      "cell_type": "markdown",
      "metadata": {
        "id": "x3OtkLga5A7r"
      },
      "source": [
        "### What is explanatory data analysis (EDA) ?"
      ]
    },
    {
      "cell_type": "markdown",
      "metadata": {
        "id": "8ZABNLM45A7r"
      },
      "source": [
        "- Explanatory data analytics focuses on all the parts of context, mainly the why and how. An outcome can be statistically calculated, modeled, or visualized to tell you the likelihood of certain events based on preconceived variables."
      ]
    },
    {
      "cell_type": "markdown",
      "metadata": {
        "id": "m-rDBo1h5A7s"
      },
      "source": [
        "\n",
        "<img align=\"center\" alt=\"GIF\"  width=\"450px\" src=\"https://upload.wikimedia.org/wikipedia/commons/thumb/b/ba/Data_visualization_process_v1.png/350px-Data_visualization_process_v1.png\" />\n"
      ]
    },
    {
      "cell_type": "markdown",
      "metadata": {
        "id": "Tfm3k4er5A7t"
      },
      "source": [
        "## Levels of data analysis ."
      ]
    },
    {
      "cell_type": "markdown",
      "metadata": {
        "id": "p4Wk3_oV5A7t"
      },
      "source": [
        "#### There are 4 types of levels namely -"
      ]
    },
    {
      "cell_type": "markdown",
      "metadata": {
        "id": "XeSlMhtU5A7u"
      },
      "source": [
        "- Descriptive Analysis.\n",
        "- Diagnostic Analysis.\n",
        "- Predictive Analysis.\n",
        "- Prescriptive Analysis."
      ]
    },
    {
      "cell_type": "markdown",
      "metadata": {
        "id": "_jYuaEr45A7u"
      },
      "source": [
        "<img align='center' alt=\"GIF\" width='450px' src=\"https://media-exp1.licdn.com/dms/image/C5112AQEQRrnvOyTYsQ/article-cover_image-shrink_600_2000/0?e=1605744000&v=beta&t=B-5q5C44zofSEC4r2Gb7nGyFumXpemSq0ySDqszGfKM\">"
      ]
    },
    {
      "cell_type": "markdown",
      "metadata": {
        "id": "mcXeEeBm5A7u"
      },
      "source": [
        "> Descriptive Analysis: \n",
        "- Descriptive data analysis looks at past data and tells what happened. This is often used when tracking Key Performance Indicators (KPIs), revenue, sales leads, and more."
      ]
    },
    {
      "cell_type": "markdown",
      "metadata": {
        "id": "HWa_-WmB5A7v"
      },
      "source": [
        "> Diagnostic Analysis :\n",
        "- Diagnostic data analysis aims to determine why something happened. Once your descriptive analysis shows that something negative or positive happened, diagnostic analysis can be done to figure out the reason. A business may see that leads increased in the month of October and use diagnostic analysis to determine which marketing efforts contributed the most.\n"
      ]
    },
    {
      "cell_type": "markdown",
      "metadata": {
        "id": "urkJTWt85A7v"
      },
      "source": [
        ">Predictive Analysis:\n",
        "- Predictive data analysis predicts what is likely to happen in the future. In this type of research, trends are derived from past data which are then used to form predictions about the future. For example, to predict next year’s revenue, data from previous years will be analyzed. If revenue has gone up 20% every year for many years, we would predict that revenue next year will be 20% higher than this year. This is a simple example, but predictive analysis can be applied to much more complicated issues such as risk assessment, sales forecasting, or qualifying leads."
      ]
    },
    {
      "cell_type": "markdown",
      "metadata": {
        "id": "6kFSoymI5A7w"
      },
      "source": [
        ">Prescriptive Analysis: \n",
        "- Prescriptive data analysis combines the information found from the previous 3 types of data analysis and forms a plan of action for the organization to face the issue or decision. This is where the data-driven choices are made."
      ]
    },
    {
      "cell_type": "markdown",
      "metadata": {
        "id": "aE4Qmt3T5A7w"
      },
      "source": [
        "#### These 4 types of data analysis can be applied to any issue with data related to it.\n"
      ]
    }
  ]
}
{
 "cells": [
  {
   "cell_type": "markdown",
   "metadata": {},
   "source": [
    "# Intoduction to Machine Learning."
   ]
  },
  {
   "cell_type": "markdown",
   "metadata": {},
   "source": [
    "## What is Machine Learning?"
   ]
  },
  {
   "cell_type": "markdown",
   "metadata": {},
   "source": [
    "####  ->Machine Learning is the ability of machines ,that is computers to learn and improve their past experience or data, without being explicitly programmed to do so .\n",
    "\n",
    "\n",
    "#### ->Machine learning is an application of artificial intelligence (AI) that provides systems the ability to automatically learn and improve from experience without being explicitly programmed.\n"
   ]
  },
  {
   "cell_type": "markdown",
   "metadata": {},
   "source": [
    "## Why machine learning is so important/Why machine learning is the future?"
   ]
  },
  {
   "cell_type": "markdown",
   "metadata": {},
   "source": [
    "#### -> Machine Learning is an application of Artificial Intelligence. It allows software applications to become accurate in predicting outcomes. ... As humans become more addicted to machines, we're witnesses to a new revolution that's taking over the world, and that is going to be the future of Machine Learning. "
   ]
  },
  {
   "cell_type": "markdown",
   "metadata": {},
   "source": [
    "## Why is it called machine learning?"
   ]
  },
  {
   "cell_type": "markdown",
   "metadata": {},
   "source": [
    "#### -> It used to be called statistical learning theory. ... Its because the way human learn different thing machine is learning different thing. we are not telling machine what to do, we are teaching machine how to do.So, machine will use this skill to solve next problem it will face without explicitly programmed."
   ]
  },
  {
   "cell_type": "markdown",
   "metadata": {},
   "source": [
    "## Application of machine Learning. "
   ]
  },
  {
   "cell_type": "markdown",
   "metadata": {},
   "source": [
    "## Here are the few Applications of Machine Learning from Day-to-Day Life-\n",
    "     1.Virtual Personal Assistants. Siri, Alexa, Google Now are some of the popular examples of virtual personal assistants.\n",
    "     2.Predictions while Commuting.\n",
    "     3.Videos Surveillance.\n",
    "     4.Social Media Services.\n",
    "     5.Email Spam and Malware Filtering.\n",
    "     6.Online Customer Support.\n",
    "     7.Search Engine Result Refining.\n",
    "     8.Product Recommendations."
   ]
  },
  {
   "cell_type": "markdown",
   "metadata": {},
   "source": [
    "## Types of machine learning:"
   ]
  },
  {
   "cell_type": "markdown",
   "metadata": {},
   "source": [
    "#### There are mainly two types of machine learning-\n",
    "        1.Supervised Learning.\n",
    "        2.Unsupervised Learning."
   ]
  },
  {
   "cell_type": "markdown",
   "metadata": {},
   "source": [
    "![title](ML1.jpg)"
   ]
  },
  {
   "cell_type": "markdown",
   "metadata": {},
   "source": [
    "#### before going to Supervised Learning and Unsupervised Learning we should have an idea about labeled data and unlabeled data.\n"
   ]
  },
  {
   "cell_type": "markdown",
   "metadata": {},
   "source": [
    "### labeled data-\n",
    "->Labeled data, used by Supervised learning add meaningful tags or labels or class to the observations (or rows).                 These tags can come from observations or asking people or specialists about the data.\n",
    "\n",
    "->Classification and Regression could be applied to labelled datasets for Supervised learning.\n",
    "         \n",
    "->Machine learning models can be applied to the labeled data so that new unlabeled data can be presented to the model             and a likely label can be guessed or predicted."
   ]
  },
  {
   "cell_type": "markdown",
   "metadata": {},
   "source": [
    "### unlabeled data-"
   ]
  },
  {
   "cell_type": "markdown",
   "metadata": {},
   "source": [
    "->Unlabeled data, used by Unsupervised learning however do not have any meaningful tags or labels associated with it.\n",
    "\n",
    "->Unsupervised learning has more difficult algorithms than supervised learning since we know little to no information about the data, or the outcomes that are to be expected.\n",
    "\n",
    "->Clustering is considered to be one of the most popular unsupervised machine learning techniques used for grouping data points, or objects that are somehow similar.\n"
   ]
  },
  {
   "cell_type": "markdown",
   "metadata": {},
   "source": [
    "## Supervised Learning:\n"
   ]
  },
  {
   "cell_type": "markdown",
   "metadata": {},
   "source": [
    "#### ->Supervised learning is one of the most basic types of machine learning. In this type, the machine learning algorithm is trained on labeled data. Even though the data needs to be labeled accurately for this method to work, supervised learning is extremely powerful when used in the right circumstances.\n",
    "\n"
   ]
  },
  {
   "cell_type": "markdown",
   "metadata": {},
   "source": [
    "#### ->In a supervised learning model, the algorithm learns on a labeled dataset, providing an answer key that the algorithm can use to evaluate its accuracy on training data"
   ]
  },
  {
   "cell_type": "markdown",
   "metadata": {},
   "source": [
    "## Unsupervised Learning:\n"
   ]
  },
  {
   "cell_type": "markdown",
   "metadata": {},
   "source": [
    "#### ->Unsupervised machine learning holds the advantage of being able to work with unlabeled data. This means that human labor is not required to make the dataset machine-readable, allowing much larger datasets to be worked on by the program. "
   ]
  },
  {
   "cell_type": "markdown",
   "metadata": {},
   "source": [
    "#### ->unsupervised model, in contrast, provides unlabeled data that the algorithm tries to make sense of by extracting features and patterns on its own."
   ]
  },
  {
   "cell_type": "markdown",
   "metadata": {},
   "source": [
    "### This is all about the introduction to ML. "
   ]
  },
  {
   "cell_type": "markdown",
   "metadata": {},
   "source": [
    "### Hope you liked it <3."
   ]
  },
  {
   "cell_type": "markdown",
   "metadata": {},
   "source": [
    "#### Thank You:)"
   ]
  },
  {
   "cell_type": "code",
   "execution_count": null,
   "metadata": {},
   "outputs": [],
   "source": []
  }
 ],
 "metadata": {
  "kernelspec": {
   "display_name": "Python 3",
   "language": "python",
   "name": "python3"
  },
  "language_info": {
   "codemirror_mode": {
    "name": "ipython",
    "version": 3
   },
   "file_extension": ".py",
   "mimetype": "text/x-python",
   "name": "python",
   "nbconvert_exporter": "python",
   "pygments_lexer": "ipython3",
   "version": "3.7.4"
  }
 },
 "nbformat": 4,
 "nbformat_minor": 2
}
